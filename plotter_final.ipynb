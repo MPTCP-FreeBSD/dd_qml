{
 "cells": [
  {
   "cell_type": "code",
   "execution_count": null,
   "metadata": {},
   "outputs": [
    {
     "name": "stdout",
     "output_type": "stream",
     "text": [
      "Running for n_qubits = 2\n",
      "Training with 6 samples for n_qubits = 2\n",
      "Training with 8 samples for n_qubits = 2\n",
      "Training with 10 samples for n_qubits = 2\n",
      "Training with 12 samples for n_qubits = 2\n",
      "Training with 14 samples for n_qubits = 2\n",
      "Training with 16 samples for n_qubits = 2\n"
     ]
    },
    {
     "name": "stderr",
     "output_type": "stream",
     "text": [
      "c:\\Users\\deols\\anaconda3\\envs\\codecraft\\Lib\\site-packages\\sklearn\\linear_model\\_ridge.py:254: UserWarning: Singular matrix in solving dual problem. Using least-squares solution instead.\n",
      "  warnings.warn(\n"
     ]
    },
    {
     "name": "stdout",
     "output_type": "stream",
     "text": [
      "Training with 18 samples for n_qubits = 2\n"
     ]
    },
    {
     "name": "stderr",
     "output_type": "stream",
     "text": [
      "c:\\Users\\deols\\anaconda3\\envs\\codecraft\\Lib\\site-packages\\sklearn\\linear_model\\_ridge.py:254: UserWarning: Singular matrix in solving dual problem. Using least-squares solution instead.\n",
      "  warnings.warn(\n"
     ]
    },
    {
     "name": "stdout",
     "output_type": "stream",
     "text": [
      "Training with 20 samples for n_qubits = 2\n"
     ]
    },
    {
     "name": "stderr",
     "output_type": "stream",
     "text": [
      "c:\\Users\\deols\\anaconda3\\envs\\codecraft\\Lib\\site-packages\\sklearn\\linear_model\\_ridge.py:254: UserWarning: Singular matrix in solving dual problem. Using least-squares solution instead.\n",
      "  warnings.warn(\n"
     ]
    },
    {
     "name": "stdout",
     "output_type": "stream",
     "text": [
      "Training with 22 samples for n_qubits = 2\n"
     ]
    },
    {
     "name": "stderr",
     "output_type": "stream",
     "text": [
      "c:\\Users\\deols\\anaconda3\\envs\\codecraft\\Lib\\site-packages\\sklearn\\linear_model\\_ridge.py:254: UserWarning: Singular matrix in solving dual problem. Using least-squares solution instead.\n",
      "  warnings.warn(\n"
     ]
    },
    {
     "name": "stdout",
     "output_type": "stream",
     "text": [
      "Training with 24 samples for n_qubits = 2\n"
     ]
    },
    {
     "name": "stderr",
     "output_type": "stream",
     "text": [
      "c:\\Users\\deols\\anaconda3\\envs\\codecraft\\Lib\\site-packages\\sklearn\\linear_model\\_ridge.py:254: UserWarning: Singular matrix in solving dual problem. Using least-squares solution instead.\n",
      "  warnings.warn(\n"
     ]
    },
    {
     "name": "stdout",
     "output_type": "stream",
     "text": [
      "Training with 26 samples for n_qubits = 2\n"
     ]
    },
    {
     "name": "stderr",
     "output_type": "stream",
     "text": [
      "c:\\Users\\deols\\anaconda3\\envs\\codecraft\\Lib\\site-packages\\sklearn\\linear_model\\_ridge.py:254: UserWarning: Singular matrix in solving dual problem. Using least-squares solution instead.\n",
      "  warnings.warn(\n"
     ]
    },
    {
     "name": "stdout",
     "output_type": "stream",
     "text": [
      "Running for n_qubits = 3\n",
      "Training with 4 samples for n_qubits = 3\n",
      "Training with 24 samples for n_qubits = 3\n",
      "Training with 44 samples for n_qubits = 3\n",
      "Training with 64 samples for n_qubits = 3\n"
     ]
    },
    {
     "name": "stderr",
     "output_type": "stream",
     "text": [
      "c:\\Users\\deols\\anaconda3\\envs\\codecraft\\Lib\\site-packages\\sklearn\\linear_model\\_ridge.py:254: UserWarning: Singular matrix in solving dual problem. Using least-squares solution instead.\n",
      "  warnings.warn(\n"
     ]
    },
    {
     "name": "stdout",
     "output_type": "stream",
     "text": [
      "Training with 84 samples for n_qubits = 3\n"
     ]
    },
    {
     "name": "stderr",
     "output_type": "stream",
     "text": [
      "c:\\Users\\deols\\anaconda3\\envs\\codecraft\\Lib\\site-packages\\sklearn\\linear_model\\_ridge.py:254: UserWarning: Singular matrix in solving dual problem. Using least-squares solution instead.\n",
      "  warnings.warn(\n"
     ]
    },
    {
     "name": "stdout",
     "output_type": "stream",
     "text": [
      "Training with 104 samples for n_qubits = 3\n"
     ]
    },
    {
     "name": "stderr",
     "output_type": "stream",
     "text": [
      "c:\\Users\\deols\\anaconda3\\envs\\codecraft\\Lib\\site-packages\\sklearn\\linear_model\\_ridge.py:254: UserWarning: Singular matrix in solving dual problem. Using least-squares solution instead.\n",
      "  warnings.warn(\n"
     ]
    },
    {
     "name": "stdout",
     "output_type": "stream",
     "text": [
      "Training with 124 samples for n_qubits = 3\n"
     ]
    },
    {
     "name": "stderr",
     "output_type": "stream",
     "text": [
      "c:\\Users\\deols\\anaconda3\\envs\\codecraft\\Lib\\site-packages\\sklearn\\linear_model\\_ridge.py:254: UserWarning: Singular matrix in solving dual problem. Using least-squares solution instead.\n",
      "  warnings.warn(\n"
     ]
    },
    {
     "name": "stdout",
     "output_type": "stream",
     "text": [
      "Running for n_qubits = 4\n",
      "Training with 76 samples for n_qubits = 4\n",
      "Training with 136 samples for n_qubits = 4\n",
      "Training with 196 samples for n_qubits = 4\n"
     ]
    },
    {
     "name": "stderr",
     "output_type": "stream",
     "text": [
      "c:\\Users\\deols\\anaconda3\\envs\\codecraft\\Lib\\site-packages\\sklearn\\linear_model\\_ridge.py:254: UserWarning: Singular matrix in solving dual problem. Using least-squares solution instead.\n",
      "  warnings.warn(\n"
     ]
    },
    {
     "name": "stdout",
     "output_type": "stream",
     "text": [
      "Training with 256 samples for n_qubits = 4\n"
     ]
    },
    {
     "name": "stderr",
     "output_type": "stream",
     "text": [
      "c:\\Users\\deols\\anaconda3\\envs\\codecraft\\Lib\\site-packages\\sklearn\\linear_model\\_ridge.py:254: UserWarning: Singular matrix in solving dual problem. Using least-squares solution instead.\n",
      "  warnings.warn(\n"
     ]
    },
    {
     "name": "stdout",
     "output_type": "stream",
     "text": [
      "Training with 316 samples for n_qubits = 4\n"
     ]
    },
    {
     "name": "stderr",
     "output_type": "stream",
     "text": [
      "c:\\Users\\deols\\anaconda3\\envs\\codecraft\\Lib\\site-packages\\sklearn\\linear_model\\_ridge.py:254: UserWarning: Singular matrix in solving dual problem. Using least-squares solution instead.\n",
      "  warnings.warn(\n"
     ]
    },
    {
     "name": "stdout",
     "output_type": "stream",
     "text": [
      "Training with 376 samples for n_qubits = 4\n"
     ]
    },
    {
     "name": "stderr",
     "output_type": "stream",
     "text": [
      "c:\\Users\\deols\\anaconda3\\envs\\codecraft\\Lib\\site-packages\\sklearn\\linear_model\\_ridge.py:254: UserWarning: Singular matrix in solving dual problem. Using least-squares solution instead.\n",
      "  warnings.warn(\n"
     ]
    },
    {
     "name": "stdout",
     "output_type": "stream",
     "text": [
      "Training with 436 samples for n_qubits = 4\n"
     ]
    },
    {
     "name": "stderr",
     "output_type": "stream",
     "text": [
      "c:\\Users\\deols\\anaconda3\\envs\\codecraft\\Lib\\site-packages\\sklearn\\linear_model\\_ridge.py:254: UserWarning: Singular matrix in solving dual problem. Using least-squares solution instead.\n",
      "  warnings.warn(\n"
     ]
    },
    {
     "name": "stdout",
     "output_type": "stream",
     "text": [
      "Running for n_qubits = 5\n",
      "Training with 304 samples for n_qubits = 5\n",
      "Training with 544 samples for n_qubits = 5\n",
      "Training with 784 samples for n_qubits = 5\n"
     ]
    },
    {
     "name": "stderr",
     "output_type": "stream",
     "text": [
      "c:\\Users\\deols\\anaconda3\\envs\\codecraft\\Lib\\site-packages\\sklearn\\linear_model\\_ridge.py:254: UserWarning: Singular matrix in solving dual problem. Using least-squares solution instead.\n",
      "  warnings.warn(\n"
     ]
    },
    {
     "name": "stdout",
     "output_type": "stream",
     "text": [
      "Training with 1024 samples for n_qubits = 5\n"
     ]
    },
    {
     "name": "stderr",
     "output_type": "stream",
     "text": [
      "c:\\Users\\deols\\anaconda3\\envs\\codecraft\\Lib\\site-packages\\sklearn\\linear_model\\_ridge.py:254: UserWarning: Singular matrix in solving dual problem. Using least-squares solution instead.\n",
      "  warnings.warn(\n"
     ]
    },
    {
     "name": "stdout",
     "output_type": "stream",
     "text": [
      "Training with 1264 samples for n_qubits = 5\n"
     ]
    },
    {
     "name": "stderr",
     "output_type": "stream",
     "text": [
      "c:\\Users\\deols\\anaconda3\\envs\\codecraft\\Lib\\site-packages\\sklearn\\linear_model\\_ridge.py:254: UserWarning: Singular matrix in solving dual problem. Using least-squares solution instead.\n",
      "  warnings.warn(\n"
     ]
    },
    {
     "name": "stdout",
     "output_type": "stream",
     "text": [
      "Training with 1504 samples for n_qubits = 5\n"
     ]
    }
   ],
   "source": [
    "import pennylane as qml\n",
    "import matplotlib.pyplot as plt\n",
    "import numpy as np\n",
    "from sklearn.preprocessing import StandardScaler\n",
    "from sklearn.model_selection import train_test_split\n",
    "from sklearn.kernel_ridge import KernelRidge\n",
    "from sklearn.metrics import mean_squared_error\n",
    "import scipy.linalg\n",
    "from sklearn.decomposition import PCA\n",
    "from sklearn.datasets import fetch_openml\n",
    "from sklearn.preprocessing import OneHotEncoder\n",
    "\n",
    "# Load Fashion-MNIST dataset\n",
    "X, y = fetch_openml(\"Fashion-MNIST\", version=1, return_X_y=True, as_frame=False)\n",
    "X = X / 255.0  # Normalize\n",
    "\n",
    "# Train-test split\n",
    "X_train, X_test, y_train, y_test = train_test_split(X, y, train_size=60000, test_size=10000)\n",
    "scaler = StandardScaler()\n",
    "X_train = scaler.fit_transform(X_train)\n",
    "X_test = scaler.transform(X_test)\n",
    "\n",
    "# Select only classes '0' and '1'\n",
    "train_filter = np.where((y_train == '0') | (y_train == '1'))\n",
    "test_filter = np.where((y_test == '0') | (y_test == '1'))\n",
    "x_train_red, y_train_red = X_train[train_filter], y_train[train_filter]\n",
    "x_test_red, y_test_red = X_test[test_filter], y_test[test_filter]\n",
    "\n",
    "# One-hot encode labels\n",
    "ohe = OneHotEncoder()\n",
    "y_train = ohe.fit_transform(y_train_red.reshape(-1, 1)).toarray()\n",
    "y_test = ohe.transform(y_test_red.reshape(-1, 1)).toarray()\n",
    "\n",
    "# Define function to run quantum kernel learning for different n_qubits\n",
    "results = {}\n",
    "\n",
    "for n_qubits in [2, 3, 4, 5]:\n",
    "    print(f\"Running for n_qubits = {n_qubits}\")\n",
    "\n",
    "    # Perform PCA\n",
    "    to_use = 2 * n_qubits\n",
    "    pca = PCA(n_components=to_use)\n",
    "    x_train = pca.fit_transform(x_train_red)\n",
    "    x_test = pca.transform(x_test_red)\n",
    "    \n",
    "    n_test = 100\n",
    "    x_test = x_test[:n_test]\n",
    "    y_test = y_test[:n_test]\n",
    "\n",
    "    # Quantum feature map\n",
    "    def quantum_feature_map(x):\n",
    "        for i in range(len(x)):\n",
    "            qml.RX(x[i], wires=i % n_qubits)\n",
    "        for n in range(n_qubits - 1):\n",
    "            qml.CNOT(wires=[n, n + 1])\n",
    "        for i in range(len(x)):\n",
    "            qml.RZ(x[i], wires=i % n_qubits)\n",
    "\n",
    "    dev_kernel = qml.device(\"default.qubit\", wires=n_qubits)\n",
    "\n",
    "    @qml.qnode(dev_kernel)\n",
    "    def kernel(x1, x2):\n",
    "        quantum_feature_map(x1)\n",
    "        qml.adjoint(quantum_feature_map)(x2)\n",
    "        return qml.expval(qml.Hermitian(np.diag([1] + [0] * (2 ** n_qubits - 1)), wires=range(n_qubits)))\n",
    "\n",
    "    def kernel_matrix(A, B):\n",
    "        return np.array([[kernel(a, b) for b in B] for a in A])\n",
    "\n",
    "    # Define training size limits\n",
    "    if n_qubits == 2:\n",
    "        limit_low, limit_up, step = 2**(2 * n_qubits) - 10, 2**(2 * n_qubits) + 11, 2\n",
    "    elif n_qubits == 3:\n",
    "        limit_low, limit_up, step = 2**(2 * n_qubits) - 60, 2**(2 * n_qubits) + 61, 20\n",
    "    elif n_qubits == 4:\n",
    "        limit_low, limit_up, step = 2**(2 * n_qubits) - 180, 2**(2 * n_qubits) + 181, 60\n",
    "    elif n_qubits == 5:\n",
    "        limit_low, limit_up, step = 2**(2 * n_qubits) - 720, 2**(2 * n_qubits) + 721, 240\n",
    "\n",
    "    mse_list, cond_no_list, rank_list = [], [], []\n",
    "\n",
    "    for n_train in range(limit_low, limit_up, step):\n",
    "        x_train_krr = x_train[:n_train]\n",
    "        y_train_krr = y_train[:n_train]\n",
    "\n",
    "        print(f\"Training with {n_train} samples for n_qubits = {n_qubits}\")\n",
    "\n",
    "        K_train = kernel_matrix(x_train_krr, x_train_krr).astype(np.float64)\n",
    "        K_test = kernel_matrix(x_test, x_train_krr).astype(np.float64)\n",
    "\n",
    "        # Train Kernel Ridge Regression\n",
    "        krr = KernelRidge(kernel='precomputed', alpha=0.0)\n",
    "        krr.fit(K_train, y_train_krr)\n",
    "\n",
    "        # Predictions\n",
    "        y_pred = krr.predict(K_test)\n",
    "        mse = mean_squared_error(np.real(y_test), y_pred)\n",
    "        mse_list.append(mse)\n",
    "\n",
    "        # Compute condition number and rank\n",
    "        cond_no = np.linalg.cond(K_train)\n",
    "        rank = np.linalg.matrix_rank(K_train)\n",
    "        cond_no_list.append(cond_no)\n",
    "        rank_list.append(rank)\n",
    "\n",
    "    # Store results\n",
    "    results[n_qubits] = {\n",
    "        \"mse\": mse_list,\n",
    "        \"cond_no\": cond_no_list,\n",
    "        \"rank\": rank_list,\n",
    "        \"train_sizes\": np.arange(limit_low, limit_up, step),\n",
    "    }\n",
    "\n",
    "# Plot Results\n",
    "plt.figure(figsize=(10, 6))\n",
    "\n",
    "for n_qubits in [2, 3, 4, 5]:\n",
    "    plt.plot(\n",
    "        results[n_qubits][\"train_sizes\"],\n",
    "        results[n_qubits][\"mse\"],\n",
    "        label=f\"n={n_qubits}\",\n",
    "        marker=\"o\",\n",
    "    )\n",
    "\n",
    "plt.xlabel(\"Number of Training Samples\")\n",
    "plt.ylabel(\"Mean Squared Error\")\n",
    "plt.yscale(\"log\")\n",
    "plt.title(\"MSE vs. Training Samples for Different n_qubits\")\n",
    "plt.legend()\n",
    "plt.grid()\n",
    "plt.savefig(\"MSE_vs_TrainingSamples.png\", dpi=300)\n",
    "plt.show()\n",
    "\n",
    "plt.figure(figsize=(10, 6))\n",
    "\n",
    "for n_qubits in [2, 3, 4, 5]:\n",
    "    plt.plot(\n",
    "        results[n_qubits][\"train_sizes\"],\n",
    "        results[n_qubits][\"cond_no\"],\n",
    "        label=f\"n={n_qubits}\",\n",
    "        marker=\"s\",\n",
    "    )\n",
    "\n",
    "plt.xlabel(\"Number of Training Samples\")\n",
    "plt.ylabel(\"Condition Number\")\n",
    "plt.yscale(\"log\")\n",
    "plt.title(\"Condition Number vs. Training Samples for Different n_qubits\")\n",
    "plt.legend()\n",
    "plt.grid()\n",
    "plt.savefig(\"ConditionNumber_vs_TrainingSamples.png\", dpi=300)\n",
    "plt.show()\n",
    "\n",
    "\n",
    "\n",
    "\n",
    "plt.figure(figsize=(10, 6))\n",
    "\n",
    "for n_qubits in [2, 3, 4, 5]:\n",
    "    plt.plot(\n",
    "        results[n_qubits][\"train_sizes\"],\n",
    "        results[n_qubits][\"rank\"],\n",
    "        label=f\"n={n_qubits}\",\n",
    "        marker=\"^\",\n",
    "    )\n",
    "\n",
    "plt.xlabel(\"Number of Training Samples\")\n",
    "plt.ylabel(\"Matrix Rank\")\n",
    "plt.title(\"Matrix Rank vs. Training Samples for Different n_qubits\")\n",
    "plt.legend()\n",
    "plt.grid()\n",
    "plt.savefig(\"MatrixRank_vs_TrainingSamples.png\", dpi=300)\n",
    "plt.show()\n"
   ]
  }
 ],
 "metadata": {
  "kernelspec": {
   "display_name": "codecraft",
   "language": "python",
   "name": "python3"
  },
  "language_info": {
   "codemirror_mode": {
    "name": "ipython",
    "version": 3
   },
   "file_extension": ".py",
   "mimetype": "text/x-python",
   "name": "python",
   "nbconvert_exporter": "python",
   "pygments_lexer": "ipython3",
   "version": "3.12.9"
  }
 },
 "nbformat": 4,
 "nbformat_minor": 2
}
