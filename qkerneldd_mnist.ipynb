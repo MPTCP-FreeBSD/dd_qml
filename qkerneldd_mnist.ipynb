{
 "cells": [
  {
   "cell_type": "code",
   "execution_count": 1,
   "metadata": {},
   "outputs": [],
   "source": [
    "import pennylane as qml\n",
    "import matplotlib.pyplot as plt\n",
    "import numpy as np\n",
    "from sklearn.preprocessing import StandardScaler\n",
    "from sklearn.model_selection import train_test_split\n",
    "from sklearn.kernel_ridge import KernelRidge\n",
    "from sklearn.metrics import mean_squared_error\n",
    "import scipy.linalg\n",
    "\n",
    "from sklearn.datasets import fetch_openml\n",
    "from sklearn.preprocessing import OneHotEncoder\n"
   ]
  },
  {
   "cell_type": "markdown",
   "metadata": {},
   "source": [
    "# Parameters -------------------------------------------------------------------------------"
   ]
  },
  {
   "cell_type": "code",
   "execution_count": 2,
   "metadata": {},
   "outputs": [],
   "source": [
    "n_test = 100\n",
    "n_train_max  = 1800  # this has to be larger than 4**n_qubits\n",
    "n_qubits = 1\n",
    "reps = 5\n",
    "\n",
    "qubits_list = [2, 3]"
   ]
  },
  {
   "cell_type": "code",
   "execution_count": 3,
   "metadata": {},
   "outputs": [],
   "source": [
    "import os\n",
    "\n",
    "data_directory = f\"Data/{n_qubits}_qubits\"\n",
    "# Ensure the directory exists\n",
    "os.makedirs(f\"./{data_directory}\", exist_ok=True)\n",
    "\n",
    "graph_directory = f\"Graphs/{n_qubits}_qubits\"\n",
    "# Ensure the directory exists\n",
    "os.makedirs(f\"./{graph_directory}\", exist_ok=True)"
   ]
  },
  {
   "cell_type": "markdown",
   "metadata": {},
   "source": [
    "# Functions to generate data ---------------------------------------------------------------"
   ]
  },
  {
   "cell_type": "code",
   "execution_count": 4,
   "metadata": {},
   "outputs": [],
   "source": [
    "from sklearn.datasets import fetch_openml\n",
    "from sklearn.preprocessing import OneHotEncoder\n",
    "\n",
    "# Load data from https://www.openml.org/d/554\n",
    "X, y = fetch_openml(\"Fashion-MNIST\", version=1, return_X_y=True, as_frame=False)\n",
    "\n",
    "# map data in [0,1] range\n",
    "X = X / 255.0\n",
    "\n",
    "# split into train and test data\n",
    "X_train, X_test, y_train, y_test = train_test_split(X, y, train_size=60000, test_size=10000)\n",
    "\n",
    "# standardize data -- make mean 0 and std 1\n",
    "scaler = StandardScaler()\n",
    "X_train = scaler.fit_transform(X_train)\n",
    "X_test = scaler.transform(X_test)\n",
    "\n",
    "# choose only two classes '0' and '1' for now\n",
    "train_filter = np.where((y_train == '0') | (y_train == '1'))\n",
    "test_filter = np.where((y_test == '0') | (y_test == '1'))\n",
    "\n",
    "# reduced training and test data with only 2 classes\n",
    "x_train_red, y_train_red = X_train[train_filter], y_train[train_filter]\n",
    "x_test_red, y_test_red = X_test[test_filter], y_test[test_filter]\n",
    "\n",
    "# Reshape labels to one-hot encode them\n",
    "y_train_red = y_train_red.reshape(-1, 1)\n",
    "y_test_red = y_test_red.reshape(-1, 1)\n",
    "\n",
    "# One-hot encode the labels\n",
    "ohe = OneHotEncoder()\n",
    "ohe.fit(y_train_red)\n",
    "y_train = ohe.transform(y_train_red).toarray()\n",
    "ohe.fit(y_test_red)\n",
    "y_test = ohe.transform(y_test_red).toarray()"
   ]
  },
  {
   "cell_type": "markdown",
   "metadata": {},
   "source": [
    "# Define quantum kernel functions -------------------------------------------------------"
   ]
  },
  {
   "cell_type": "code",
   "execution_count": 5,
   "metadata": {},
   "outputs": [],
   "source": [
    "def quantum_feature_map(x):\n",
    "    \"\"\"\n",
    "    Feature map for quantum kernel.\n",
    "    Adjust repetitions (reps) or gates if kernel is not full rank.\n",
    "    \"\"\"\n",
    "    reps = n_qubits\n",
    "    for r in range(reps):\n",
    "        for i in range(len(x)):\n",
    "            qml.RX(x[i], wires=i % n_qubits)\n",
    "        for n in range(n_qubits - 1):\n",
    "            qml.CNOT(wires=[n, n + 1])\n",
    "        for i in range(len(x)):\n",
    "            qml.RZ(x[i], wires=i % n_qubits)\n",
    "\n",
    "dev_kernel = qml.device(\"default.qubit\", wires=n_qubits)\n",
    "\n",
    "@qml.qnode(dev_kernel)\n",
    "def kernel_state(x1):\n",
    "    \"\"\"\n",
    "    Takes as input data and returns density matrix.\n",
    "    Use this function to generate rho(X).\n",
    "    \"\"\"\n",
    "    quantum_feature_map(x1)\n",
    "    return qml.density_matrix(wires=range(n_qubits))\n",
    "\n",
    "projector = np.zeros((2 ** n_qubits, 2 ** n_qubits))\n",
    "projector[0, 0] = 1\n",
    "\n",
    "@qml.qnode(dev_kernel)\n",
    "def kernel(x1, x2):\n",
    "    \"\"\"The quantum kernel.\"\"\"\n",
    "    quantum_feature_map(x1)\n",
    "    qml.adjoint(quantum_feature_map)(x2)\n",
    "    return qml.expval(qml.Hermitian(projector, wires=range(n_qubits)))\n",
    "\n",
    "def kernel_matrix(A, B):\n",
    "    \"\"\"Compute the matrix whose entries are the kernel evaluated on pairwise data from sets A and B.\"\"\"\n",
    "    return np.array([[kernel(a, b) for b in B] for a in A])"
   ]
  },
  {
   "cell_type": "code",
   "execution_count": 6,
   "metadata": {},
   "outputs": [],
   "source": [
    "# compute data matrix condition number and rank -------------------------------------------------------------------\n",
    "@qml.qnode(dev_kernel)\n",
    "def kernel_state(x1):\n",
    "    \"\"\"The quantum data encoding.\"\"\"\n",
    "    quantum_feature_map(x1)\n",
    "    return qml.density_matrix(wires=range(n_qubits))\n",
    "\n",
    "def compute_rank(A, tol=None):\n",
    "    U, s, Vh = scipy.linalg.svd(A)\n",
    "    if tol is None:\n",
    "        tol = max(A.shape) * np.spacing(np.max(s))\n",
    "    rank = np.sum(s > tol)\n",
    "    return rank"
   ]
  },
  {
   "cell_type": "markdown",
   "metadata": {},
   "source": [
    "# Do PCA"
   ]
  },
  {
   "cell_type": "code",
   "execution_count": 7,
   "metadata": {},
   "outputs": [],
   "source": [
    "from sklearn.decomposition import PCA\n",
    "\n",
    "# Initialize PCA with the number of components\n",
    "to_use = 2 * n_qubits\n",
    "pca = PCA(n_components=to_use)\n",
    "\n",
    "# Fit the PCA model and transform the data\n",
    "x_train = pca.fit_transform(x_train_red)\n",
    "x_test = pca.transform(x_test_red)\n",
    "\n",
    "# choose only subset of data\n",
    "x_test = x_test[:n_test]\n",
    "y_test = y_test[:n_test]"
   ]
  },
  {
   "cell_type": "markdown",
   "metadata": {},
   "source": [
    "# loop over different number of train data -------------------------------------------------"
   ]
  },
  {
   "cell_type": "code",
   "execution_count": 8,
   "metadata": {},
   "outputs": [
    {
     "name": "stdout",
     "output_type": "stream",
     "text": [
      "1 : train samples:  1 / 7\n",
      "Rank of Kernel:  1\n",
      "Mean Squared Error Test: 0.4533240603576635\n",
      "Mean Squared Error Train: 0.0\n",
      "1 : train samples:  2 / 7\n",
      "Rank of Kernel:  2\n",
      "Mean Squared Error Test: 3.3647064469234644\n",
      "Mean Squared Error Train: 2.2140950222891395e-29\n",
      "1 : train samples:  3 / 7\n",
      "Rank of Kernel:  3\n",
      "Mean Squared Error Test: 8.535799476632054\n",
      "Mean Squared Error Train: 1.3382806296914876e-28\n",
      "1 : train samples:  4 / 7\n",
      "Rank of Kernel:  4\n",
      "Mean Squared Error Test: 28.189090542297407\n",
      "Mean Squared Error Train: 4.368210609915946e-26\n",
      "1 : train samples:  5 / 7\n"
     ]
    },
    {
     "name": "stderr",
     "output_type": "stream",
     "text": [
      "c:\\Users\\deols\\anaconda3\\envs\\codecraft\\Lib\\site-packages\\sklearn\\linear_model\\_ridge.py:254: UserWarning: Singular matrix in solving dual problem. Using least-squares solution instead.\n",
      "  warnings.warn(\n"
     ]
    },
    {
     "name": "stdout",
     "output_type": "stream",
     "text": [
      "Rank of Kernel:  4\n",
      "Mean Squared Error Test: 5.704670897605366\n",
      "Mean Squared Error Train: 0.015799421489865587\n",
      "1 : train samples:  6 / 7\n"
     ]
    },
    {
     "name": "stderr",
     "output_type": "stream",
     "text": [
      "c:\\Users\\deols\\anaconda3\\envs\\codecraft\\Lib\\site-packages\\sklearn\\linear_model\\_ridge.py:254: UserWarning: Singular matrix in solving dual problem. Using least-squares solution instead.\n",
      "  warnings.warn(\n"
     ]
    },
    {
     "name": "stdout",
     "output_type": "stream",
     "text": [
      "Rank of Kernel:  4\n",
      "Mean Squared Error Test: 1.381578754344797\n",
      "Mean Squared Error Train: 0.0963668362485\n",
      "1 : train samples:  7 / 7\n"
     ]
    },
    {
     "name": "stderr",
     "output_type": "stream",
     "text": [
      "c:\\Users\\deols\\anaconda3\\envs\\codecraft\\Lib\\site-packages\\sklearn\\linear_model\\_ridge.py:254: UserWarning: Singular matrix in solving dual problem. Using least-squares solution instead.\n",
      "  warnings.warn(\n"
     ]
    },
    {
     "name": "stdout",
     "output_type": "stream",
     "text": [
      "Rank of Kernel:  4\n",
      "Mean Squared Error Test: 0.637308795079444\n",
      "Mean Squared Error Train: 0.11868607804731057\n",
      "2 : train samples:  1 / 7\n",
      "Rank of Kernel:  1\n",
      "Mean Squared Error Test: 0.42000766205727835\n",
      "Mean Squared Error Train: 0.0\n",
      "2 : train samples:  2 / 7\n",
      "Rank of Kernel:  2\n",
      "Mean Squared Error Test: 1.5418267108822712\n",
      "Mean Squared Error Train: 5.0898646185307685e-31\n",
      "2 : train samples:  3 / 7\n",
      "Rank of Kernel:  3\n",
      "Mean Squared Error Test: 1.775994441980267\n",
      "Mean Squared Error Train: 4.254847661500089e-30\n",
      "2 : train samples:  4 / 7\n",
      "Rank of Kernel:  4\n",
      "Mean Squared Error Test: 79.42595014605152\n",
      "Mean Squared Error Train: 2.315056430430524e-26\n",
      "2 : train samples:  5 / 7\n"
     ]
    },
    {
     "name": "stderr",
     "output_type": "stream",
     "text": [
      "c:\\Users\\deols\\anaconda3\\envs\\codecraft\\Lib\\site-packages\\sklearn\\linear_model\\_ridge.py:252: LinAlgWarning: Ill-conditioned matrix (rcond=4.39236e-17): result may not be accurate.\n",
      "  dual_coef = linalg.solve(K, y, assume_a=\"pos\", overwrite_a=False)\n"
     ]
    },
    {
     "name": "stdout",
     "output_type": "stream",
     "text": [
      "Rank of Kernel:  4\n",
      "Mean Squared Error Test: 0.9550024147920573\n",
      "Mean Squared Error Train: 0.030935727796295512\n",
      "2 : train samples:  6 / 7\n"
     ]
    },
    {
     "name": "stderr",
     "output_type": "stream",
     "text": [
      "c:\\Users\\deols\\anaconda3\\envs\\codecraft\\Lib\\site-packages\\sklearn\\linear_model\\_ridge.py:252: LinAlgWarning: Ill-conditioned matrix (rcond=1.06188e-17): result may not be accurate.\n",
      "  dual_coef = linalg.solve(K, y, assume_a=\"pos\", overwrite_a=False)\n"
     ]
    },
    {
     "name": "stdout",
     "output_type": "stream",
     "text": [
      "Rank of Kernel:  4\n",
      "Mean Squared Error Test: 0.9956849920547219\n",
      "Mean Squared Error Train: 0.02523110976393086\n",
      "2 : train samples:  7 / 7\n"
     ]
    },
    {
     "name": "stderr",
     "output_type": "stream",
     "text": [
      "c:\\Users\\deols\\anaconda3\\envs\\codecraft\\Lib\\site-packages\\sklearn\\linear_model\\_ridge.py:252: LinAlgWarning: Ill-conditioned matrix (rcond=8.75513e-18): result may not be accurate.\n",
      "  dual_coef = linalg.solve(K, y, assume_a=\"pos\", overwrite_a=False)\n"
     ]
    },
    {
     "name": "stdout",
     "output_type": "stream",
     "text": [
      "Rank of Kernel:  4\n",
      "Mean Squared Error Test: 1.1546933678922866\n",
      "Mean Squared Error Train: 0.024120127572364012\n",
      "3 : train samples:  1 / 7\n",
      "Rank of Kernel:  1\n",
      "Mean Squared Error Test: 0.4220434680157757\n",
      "Mean Squared Error Train: 0.0\n",
      "3 : train samples:  2 / 7\n",
      "Rank of Kernel:  2\n",
      "Mean Squared Error Test: 0.46738646633266023\n",
      "Mean Squared Error Train: 6.162975822039155e-33\n",
      "3 : train samples:  3 / 7\n",
      "Rank of Kernel:  3\n",
      "Mean Squared Error Test: 0.4857421416998719\n",
      "Mean Squared Error Train: 0.0\n",
      "3 : train samples:  4 / 7\n",
      "Rank of Kernel:  4\n",
      "Mean Squared Error Test: 0.6735358387594376\n",
      "Mean Squared Error Train: 3.0400878785733643e-30\n",
      "3 : train samples:  5 / 7\n"
     ]
    },
    {
     "name": "stderr",
     "output_type": "stream",
     "text": [
      "c:\\Users\\deols\\anaconda3\\envs\\codecraft\\Lib\\site-packages\\sklearn\\linear_model\\_ridge.py:254: UserWarning: Singular matrix in solving dual problem. Using least-squares solution instead.\n",
      "  warnings.warn(\n"
     ]
    },
    {
     "name": "stdout",
     "output_type": "stream",
     "text": [
      "Rank of Kernel:  4\n",
      "Mean Squared Error Test: 0.5125868068179265\n",
      "Mean Squared Error Train: 0.03925368196390698\n",
      "3 : train samples:  6 / 7\n"
     ]
    },
    {
     "name": "stderr",
     "output_type": "stream",
     "text": [
      "c:\\Users\\deols\\anaconda3\\envs\\codecraft\\Lib\\site-packages\\sklearn\\linear_model\\_ridge.py:254: UserWarning: Singular matrix in solving dual problem. Using least-squares solution instead.\n",
      "  warnings.warn(\n"
     ]
    },
    {
     "name": "stdout",
     "output_type": "stream",
     "text": [
      "Rank of Kernel:  4\n",
      "Mean Squared Error Test: 0.3294820879954358\n",
      "Mean Squared Error Train: 0.17004683514829172\n",
      "3 : train samples:  7 / 7\n"
     ]
    },
    {
     "name": "stderr",
     "output_type": "stream",
     "text": [
      "c:\\Users\\deols\\anaconda3\\envs\\codecraft\\Lib\\site-packages\\sklearn\\linear_model\\_ridge.py:254: UserWarning: Singular matrix in solving dual problem. Using least-squares solution instead.\n",
      "  warnings.warn(\n"
     ]
    },
    {
     "name": "stdout",
     "output_type": "stream",
     "text": [
      "Rank of Kernel:  4\n",
      "Mean Squared Error Test: 0.32681288581636025\n",
      "Mean Squared Error Train: 0.1465515893136341\n",
      "4 : train samples:  1 / 7\n",
      "Rank of Kernel:  1\n",
      "Mean Squared Error Test: 0.4220848650000431\n",
      "Mean Squared Error Train: 2.465190328815662e-32\n",
      "4 : train samples:  2 / 7\n",
      "Rank of Kernel:  2\n",
      "Mean Squared Error Test: 0.4614564607602523\n",
      "Mean Squared Error Train: 1.232595164407831e-32\n",
      "4 : train samples:  3 / 7\n",
      "Rank of Kernel:  3\n",
      "Mean Squared Error Test: 0.4983465367107651\n",
      "Mean Squared Error Train: 8.217301096052206e-33\n",
      "4 : train samples:  4 / 7\n",
      "Rank of Kernel:  4\n",
      "Mean Squared Error Test: 0.5199999999999991\n",
      "Mean Squared Error Train: 1.639351568662415e-30\n",
      "4 : train samples:  5 / 7\n"
     ]
    },
    {
     "name": "stderr",
     "output_type": "stream",
     "text": [
      "c:\\Users\\deols\\anaconda3\\envs\\codecraft\\Lib\\site-packages\\sklearn\\linear_model\\_ridge.py:254: UserWarning: Singular matrix in solving dual problem. Using least-squares solution instead.\n",
      "  warnings.warn(\n"
     ]
    },
    {
     "name": "stdout",
     "output_type": "stream",
     "text": [
      "Rank of Kernel:  4\n",
      "Mean Squared Error Test: 0.5378634560868027\n",
      "Mean Squared Error Train: 0.08360074274136337\n",
      "4 : train samples:  6 / 7\n"
     ]
    },
    {
     "name": "stderr",
     "output_type": "stream",
     "text": [
      "c:\\Users\\deols\\anaconda3\\envs\\codecraft\\Lib\\site-packages\\sklearn\\linear_model\\_ridge.py:254: UserWarning: Singular matrix in solving dual problem. Using least-squares solution instead.\n",
      "  warnings.warn(\n"
     ]
    },
    {
     "name": "stdout",
     "output_type": "stream",
     "text": [
      "Rank of Kernel:  4\n",
      "Mean Squared Error Test: 0.46484219564428575\n",
      "Mean Squared Error Train: 0.07397800102875873\n",
      "4 : train samples:  7 / 7\n"
     ]
    },
    {
     "name": "stderr",
     "output_type": "stream",
     "text": [
      "c:\\Users\\deols\\anaconda3\\envs\\codecraft\\Lib\\site-packages\\sklearn\\linear_model\\_ridge.py:254: UserWarning: Singular matrix in solving dual problem. Using least-squares solution instead.\n",
      "  warnings.warn(\n"
     ]
    },
    {
     "name": "stdout",
     "output_type": "stream",
     "text": [
      "Rank of Kernel:  4\n",
      "Mean Squared Error Test: 1.5534803124242234\n",
      "Mean Squared Error Train: 0.13614621622157558\n",
      "5 : train samples:  1 / 7\n",
      "Rank of Kernel:  1\n",
      "Mean Squared Error Test: 0.42672322586361155\n",
      "Mean Squared Error Train: 2.465190328815662e-32\n",
      "5 : train samples:  2 / 7\n",
      "Rank of Kernel:  2\n",
      "Mean Squared Error Test: 0.44816902409918147\n",
      "Mean Squared Error Train: 0.0\n",
      "5 : train samples:  3 / 7\n",
      "Rank of Kernel:  3\n",
      "Mean Squared Error Test: 0.4497215415108954\n",
      "Mean Squared Error Train: 0.0\n",
      "5 : train samples:  4 / 7\n",
      "Rank of Kernel:  4\n",
      "Mean Squared Error Test: 0.5199999999685132\n",
      "Mean Squared Error Train: 9.267223602769523e-27\n",
      "5 : train samples:  5 / 7\n"
     ]
    },
    {
     "name": "stderr",
     "output_type": "stream",
     "text": [
      "c:\\Users\\deols\\anaconda3\\envs\\codecraft\\Lib\\site-packages\\sklearn\\linear_model\\_ridge.py:252: LinAlgWarning: Ill-conditioned matrix (rcond=5.60368e-17): result may not be accurate.\n",
      "  dual_coef = linalg.solve(K, y, assume_a=\"pos\", overwrite_a=False)\n"
     ]
    },
    {
     "name": "stdout",
     "output_type": "stream",
     "text": [
      "Rank of Kernel:  4\n",
      "Mean Squared Error Test: 0.5200000000002549\n",
      "Mean Squared Error Train: 6.270088341826195e-29\n",
      "5 : train samples:  6 / 7\n"
     ]
    },
    {
     "name": "stderr",
     "output_type": "stream",
     "text": [
      "c:\\Users\\deols\\anaconda3\\envs\\codecraft\\Lib\\site-packages\\sklearn\\linear_model\\_ridge.py:254: UserWarning: Singular matrix in solving dual problem. Using least-squares solution instead.\n",
      "  warnings.warn(\n"
     ]
    },
    {
     "name": "stdout",
     "output_type": "stream",
     "text": [
      "Rank of Kernel:  4\n",
      "Mean Squared Error Test: 20.898133071817696\n",
      "Mean Squared Error Train: 0.002020165818742433\n",
      "5 : train samples:  7 / 7\n",
      "Rank of Kernel:  4\n",
      "Mean Squared Error Test: 0.7036145716347242\n",
      "Mean Squared Error Train: 0.048122919440096584\n"
     ]
    },
    {
     "name": "stderr",
     "output_type": "stream",
     "text": [
      "c:\\Users\\deols\\anaconda3\\envs\\codecraft\\Lib\\site-packages\\sklearn\\linear_model\\_ridge.py:254: UserWarning: Singular matrix in solving dual problem. Using least-squares solution instead.\n",
      "  warnings.warn(\n"
     ]
    }
   ],
   "source": [
    "mse_arr = [[] for _ in range(reps)]\n",
    "mse_arr_train = [[] for _ in range(reps)]\n",
    "eig_vals_arr = [[] for _ in range(reps)]\n",
    "cond_no_arr = [[] for _ in range(reps)]\n",
    "rank_arr = [[] for _ in range(reps)]\n",
    "params = [[] for _ in range(reps)]\n",
    "K_train_arr = []\n",
    "\n",
    "for r in range(reps):\n",
    "\n",
    "    x_train_max = x_train[r * n_train_max:(r + 1) * n_train_max]\n",
    "    y_train_max = y_train[r * n_train_max:(r + 1) * n_train_max]\n",
    "\n",
    "    if n_qubits == 1:\n",
    "        limit_low, limit_up, step = 1, 8, 1\n",
    "    elif n_qubits == 2:\n",
    "        limit_low, limit_up, step = 2**(2 * n_qubits) - 10, 2**(2 * n_qubits) + 11, 2\n",
    "    elif n_qubits == 3:\n",
    "        limit_low, limit_up, step = 2**(2 * n_qubits) - 60, 2**(2 * n_qubits) + 61, 20\n",
    "    elif n_qubits == 4:\n",
    "        limit_low, limit_up, step = 2**(2 * n_qubits) - 180, 2**(2 * n_qubits) + 181, 60\n",
    "    elif n_qubits == 5:\n",
    "        limit_low, limit_up, step = 2**(2 * n_qubits) - 720, 2**(2 * n_qubits) + 721, 240\n",
    "\n",
    "    for n_train in range(limit_low, limit_up, step):\n",
    "        x_train_krr = x_train_max[:n_train]\n",
    "        y_train_krr = y_train_max[:n_train]\n",
    "        print(r + 1, \": train samples: \", x_train_krr.shape[0], \"/\", limit_up - 1)\n",
    "\n",
    "        K_train = kernel_matrix(x_train_krr, x_train_krr).astype(np.float64)\n",
    "        K_test = kernel_matrix(x_test, x_train_krr).astype(np.float64)\n",
    "        K_train_arr.append(K_train)\n",
    "\n",
    "        kernel_ridge_model = KernelRidge(kernel='precomputed', alpha=0.0)\n",
    "        kernel_ridge_model.fit(K_train, y_train_krr)\n",
    "\n",
    "        predictions = kernel_ridge_model.predict(K_test)\n",
    "        train_predictions = kernel_ridge_model.predict(K_train)\n",
    "\n",
    "        params[r].append(kernel_ridge_model.dual_coef_)\n",
    "\n",
    "        K_eig_vals = np.linalg.eig(K_train)[0]\n",
    "        cond_no = np.linalg.cond(K_train)\n",
    "        rank = np.linalg.matrix_rank(K_train)\n",
    "\n",
    "        eig_vals_arr[r].append(K_eig_vals)\n",
    "        cond_no_arr[r].append(cond_no)\n",
    "        rank_arr[r].append(rank)\n",
    "        print(\"Rank of Kernel: \", rank)\n",
    "\n",
    "        mse = mean_squared_error(np.real(y_test), predictions)\n",
    "        mse_arr[r].append(mse)\n",
    "        print(\"Mean Squared Error Test:\", mse)\n",
    "\n",
    "        train_mse = mean_squared_error(y_train_krr, train_predictions)\n",
    "        mse_arr_train[r].append(train_mse)\n",
    "        print(\"Mean Squared Error Train:\", train_mse)\n",
    "# compute data matrix condition number and rank -------------------------------------------------------------------\n",
    "no_train = 2**(2*n_qubits)\n",
    "cond_no_arr = []\n",
    "rank_arr = []\n",
    "for n in range(limit_low, limit_up, step):\n",
    "    X = [kernel_state(x_train_max[m, :]).flatten().astype(np.complex128) for m in range(n)]\n",
    "    cond_no = np.linalg.cond(X)\n",
    "    cond_no_arr.append(cond_no)\n",
    "    rank_arr.append(compute_rank(np.array(X)))\n"
   ]
  },
  {
   "cell_type": "markdown",
   "metadata": {},
   "source": [
    "# Save the data:"
   ]
  },
  {
   "cell_type": "code",
   "execution_count": 9,
   "metadata": {},
   "outputs": [],
   "source": [
    "import pickle\n",
    "\n",
    "# Creating a dictionary to store all the arrays\n",
    "data = {\n",
    "    'mse_arr': mse_arr,\n",
    "    'mse_arr_train': mse_arr_train,\n",
    "    'eig_vals_arr': eig_vals_arr,\n",
    "    'cond_no_arr': cond_no_arr,\n",
    "    'rank_arr': rank_arr,\n",
    "    'params': params,\n",
    "    'K_train_arr': K_train_arr\n",
    "}\n",
    "\n",
    "# Saving the dictionary to a file using pickle\n",
    "with open('data.pkl', 'wb') as f:\n",
    "    pickle.dump(data, f)\n"
   ]
  },
  {
   "cell_type": "markdown",
   "metadata": {},
   "source": [
    "# Load the data"
   ]
  },
  {
   "cell_type": "code",
   "execution_count": 10,
   "metadata": {},
   "outputs": [],
   "source": [
    "# import pickle\n",
    "\n",
    "# # Loading the data from the pickle file\n",
    "# with open('data.pkl', 'rb') as f:\n",
    "#     loaded_data = pickle.load(f)\n",
    "\n",
    "# # Access the arrays after loading\n",
    "# mse_arr = loaded_data['mse_arr']\n",
    "# mse_arr_train = loaded_data['mse_arr_train']\n",
    "# eig_vals_arr = loaded_data['eig_vals_arr']\n",
    "# cond_no_arr = loaded_data['cond_no_arr']\n",
    "# rank_arr = loaded_data['rank_arr']\n",
    "# params = loaded_data['params']\n",
    "# K_train_arr = loaded_data['K_train_arr']\n"
   ]
  },
  {
   "cell_type": "markdown",
   "metadata": {},
   "source": [
    "# compute mse for varying number of train samples -------------"
   ]
  },
  {
   "cell_type": "code",
   "execution_count": 11,
   "metadata": {},
   "outputs": [],
   "source": [
    "mse_arr = np.array(mse_arr)\n",
    "mse_mean = np.mean(mse_arr, axis=0, dtype=np.float64)\n",
    "mse_std = np.std(mse_arr, axis=0) / np.log(10)\n",
    "\n",
    "mse_mean_train = np.mean(mse_arr_train, axis=0)\n",
    "mse_std_train = np.std(mse_arr_train, axis=0)\n",
    "\n",
    "# save all files -------------------------------------------------------------------\n",
    "np.savetxt(f\"./{data_directory}/mse_mean_nqubits_{n_qubits}_MNIST_Fashion\", [mse_mean], newline='')\n",
    "np.savetxt(f\"./{data_directory}/mse_std_nqubits_{n_qubits}_MNIST_Fashion\", [mse_std], newline='')\n",
    "np.savetxt(f\"./{data_directory}/mse_mean_train_nqubits_{n_qubits}_MNIST_Fashion\", [mse_mean_train], newline='')\n",
    "np.savetxt(f\"./{data_directory}/mse_std_train_nqubits_{n_qubits}_MNIST_Fashion\", [mse_std_train], newline='')\n",
    "np.savetxt(f\"./{data_directory}/arrange_nqubits_{n_qubits}_MNIST_Fashion\", [np.arange(limit_low, limit_up, step)], newline='')\n",
    "np.savetxt(f\"./{data_directory}/rank_arr_nqubits_{n_qubits}MNIST_Fashion\", [rank_arr], newline='')\n",
    "np.savetxt(f\"./{data_directory}/cond_no_arr_nqubits_{n_qubits}MNIST_Fashion\", [cond_no_arr], newline='')"
   ]
  },
  {
   "cell_type": "code",
   "execution_count": 12,
   "metadata": {},
   "outputs": [
    {
     "data": {
      "text/plain": [
       "(5, 7)"
      ]
     },
     "execution_count": 12,
     "metadata": {},
     "output_type": "execute_result"
    }
   ],
   "source": [
    "mse_arr.shape"
   ]
  },
  {
   "cell_type": "code",
   "execution_count": 13,
   "metadata": {},
   "outputs": [
    {
     "data": {
      "text/plain": [
       "array([ 0.42883666,  1.25670902,  2.34912083, 21.86571531,  1.64602472,\n",
       "        4.81394422,  0.87518199])"
      ]
     },
     "execution_count": 13,
     "metadata": {},
     "output_type": "execute_result"
    }
   ],
   "source": [
    "mse_mean"
   ]
  },
  {
   "cell_type": "code",
   "execution_count": 14,
   "metadata": {},
   "outputs": [
    {
     "data": {
      "text/plain": [
       "array([0.25, 0.5 , 0.75, 1.  , 1.25, 1.5 , 1.75])"
      ]
     },
     "execution_count": 14,
     "metadata": {},
     "output_type": "execute_result"
    }
   ],
   "source": [
    "np.arange(limit_low, limit_up, step)/4**n_qubits"
   ]
  },
  {
   "cell_type": "code",
   "execution_count": 15,
   "metadata": {},
   "outputs": [
    {
     "data": {
      "text/plain": [
       "7"
      ]
     },
     "execution_count": 15,
     "metadata": {},
     "output_type": "execute_result"
    }
   ],
   "source": [
    "len(np.arange(limit_low, limit_up, step)/4**n_qubits)"
   ]
  },
  {
   "cell_type": "code",
   "execution_count": 16,
   "metadata": {},
   "outputs": [
    {
     "data": {
      "text/plain": [
       "7"
      ]
     },
     "execution_count": 16,
     "metadata": {},
     "output_type": "execute_result"
    }
   ],
   "source": [
    "len(mse_mean)"
   ]
  },
  {
   "cell_type": "markdown",
   "metadata": {},
   "source": [
    "# Plotting"
   ]
  },
  {
   "cell_type": "code",
   "execution_count": 17,
   "metadata": {},
   "outputs": [
    {
     "data": {
      "image/png": "[encoded data removed]",
      "text/plain": [
       "<Figure size 640x480 with 1 Axes>"
      ]
     },
     "metadata": {},
     "output_type": "display_data"
    },
    {
     "data": {
      "image/png": "[encoded data removed]",
      "text/plain": [
       "<Figure size 640x480 with 1 Axes>"
      ]
     },
     "metadata": {},
     "output_type": "display_data"
    },
    {
     "data": {
      "image/png": "[encoded data removed]",
      "text/plain": [
       "<Figure size 640x480 with 1 Axes>"
      ]
     },
     "metadata": {},
     "output_type": "display_data"
    },
    {
     "name": "stdout",
     "output_type": "stream",
     "text": [
      "4 /  4\n"
     ]
    }
   ],
   "source": [
    "import matplotlib.pyplot as plt\n",
    "\n",
    "# Plotting Test MSE\n",
    "scenario = \"MNIST_Fashion\" +\"_nqubits_\" + str(n_qubits)\n",
    "plt.plot(np.arange(limit_low, limit_up, step)/4**n_qubits, mse_mean, label=f\"max at {range(limit_low, limit_up, step)[np.argmax(mse_mean)]/4**n_qubits}\")\n",
    "plt.legend()\n",
    "plt.savefig(f\"./{graph_directory}/{scenario}_MSE_1.png\", dpi=500, bbox_inches='tight')\n",
    "plt.show()\n",
    "\n",
    "# Plotting condition number of kernel matrix\n",
    "plt.plot(np.arange(limit_low, limit_up, step)/4**n_qubits, cond_no_arr, label=f\"max at {range(limit_low, limit_up, step)[np.argmax(cond_no_arr)]/4**n_qubits}\")\n",
    "plt.legend()\n",
    "plt.savefig(f\"./{graph_directory}/{scenario}_cond_no_arr_nqubits_1.png\", dpi=500, bbox_inches='tight')\n",
    "plt.show()\n",
    "\n",
    "# Plotting Rank  of kernel matrix\n",
    "plt.plot(np.arange(limit_low, limit_up, step), rank_arr, label=\"rank of X\", marker=\"o\")\n",
    "plt.axvline(range(limit_low, limit_up, step)[np.min(np.where(np.array(rank_arr) == np.max(np.array(rank_arr))))], label=f\"min(max rank) = {range(limit_low, limit_up, step)[np.min(np.where(np.array(rank_arr) == np.max(np.array(rank_arr))))]}\", color=\"black\")\n",
    "plt.axhline(no_train, color=\"grey\", label=\"dim. feature space\")\n",
    "plt.legend()\n",
    "plt.savefig(f\"./{graph_directory}/{scenario}_rank_arr_nqubits__2.png\", dpi=500, bbox_inches='tight')\n",
    "plt.show()\n",
    "\n",
    "rank = np.linalg.matrix_rank(X)\n",
    "print(rank, \"/ \", no_train)\n"
   ]
  }
 ],
 "metadata": {
  "kernelspec": {
   "display_name": "codecraft",
   "language": "python",
   "name": "python3"
  },
  "language_info": {
   "codemirror_mode": {
    "name": "ipython",
    "version": 3
   },
   "file_extension": ".py",
   "mimetype": "text/x-python",
   "name": "python",
   "nbconvert_exporter": "python",
   "pygments_lexer": "ipython3",
   "version": "3.12.9"
  }
 },
 "nbformat": 4,
 "nbformat_minor": 2
}
